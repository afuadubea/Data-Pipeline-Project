{
 "cells": [
  {
   "cell_type": "code",
   "execution_count": null,
   "id": "0c67cd33",
   "metadata": {},
   "outputs": [
    {
     "name": "stdout",
     "output_type": "stream",
     "text": [
      "price of Bitcoin USA at 2024-05-12 15:01:43.400064: 61,128.39\n",
      "price of Bitcoin EUR at 2024-05-12 15:01:49.696080: 59,353.57\n"
     ]
    }
   ],
   "source": [
    "import pandas as pd\n",
    "import requests\n",
    "from bs4 import BeautifulSoup\n",
    "from datetime import datetime\n",
    "import time\n",
    "\n",
    "\n",
    "def priceTracker():\n",
    "    url = 'https://finance.yahoo.com/quote/BTC-USD'\n",
    "    response = requests.get(url)\n",
    "    soup = BeautifulSoup(response.text,'lxml')\n",
    "    #print(soup)\n",
    "\n",
    "    price = soup.find_all('div',{'class':'container svelte-aay0dk'})[0].find('span').text\n",
    "    return price\n",
    "\n",
    "def priceTracker2():\n",
    "    url = 'https://finance.yahoo.com/quote/BTC-EUR'\n",
    "    response = requests.get(url)\n",
    "    soup = BeautifulSoup(response.text,'lxml')\n",
    "    #print(soup)\n",
    "\n",
    "    price = soup.find_all('div',{'class':'container svelte-aay0dk'})[0].find('span').text\n",
    "    return price\n",
    "\n",
    "while True:\n",
    "    print(f'price of Bitcoin USA at {datetime.now()}: '+priceTracker())\n",
    "    print(f'price of Bitcoin EUR at {datetime.now()}: '+priceTracker2())\n",
    "    time.sleep(3600)\n"
   ]
  },
  {
   "cell_type": "code",
   "execution_count": null,
   "id": "a6107228",
   "metadata": {},
   "outputs": [],
   "source": []
  },
  {
   "cell_type": "code",
   "execution_count": null,
   "id": "89381ed9",
   "metadata": {},
   "outputs": [],
   "source": []
  }
 ],
 "metadata": {
  "kernelspec": {
   "display_name": "Python 3 (ipykernel)",
   "language": "python",
   "name": "python3"
  },
  "language_info": {
   "codemirror_mode": {
    "name": "ipython",
    "version": 3
   },
   "file_extension": ".py",
   "mimetype": "text/x-python",
   "name": "python",
   "nbconvert_exporter": "python",
   "pygments_lexer": "ipython3",
   "version": "3.11.5"
  }
 },
 "nbformat": 4,
 "nbformat_minor": 5
}
